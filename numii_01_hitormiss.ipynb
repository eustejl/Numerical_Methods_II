{
 "cells": [
  {
   "cell_type": "markdown",
   "id": "4d5c8de7-a4a4-42cb-9bec-ea87124245d3",
   "metadata": {
    "tags": []
   },
   "source": [
    "## NUMII 01: Introduction to Monte Carlo (MC) Integration"
   ]
  },
  {
   "cell_type": "markdown",
   "id": "45818889-7ff0-4f86-93df-9dbee356634d",
   "metadata": {
    "tags": []
   },
   "source": [
    "Session references\n",
    "1. Wasserman - [All of Statistics](references/wasserman_all_of_statistics.pdf)\n",
    "2. Telmo Correa - [Exercises](https://github.com/telmo-correa/all-of-statistics) of Wasserman book\n",
    "3. Handwritten [notes](handwritten/numii01_mc1.pdf)"
   ]
  },
  {
   "cell_type": "markdown",
   "id": "f12c6993-5ae9-4d83-b2be-7e0bb07626c6",
   "metadata": {},
   "source": [
    "Course information\n",
    "- Two parts: Monte Carlo simulation (marcello) and molecular dynamics (ali)\n",
    "- Final project: end March to early April\n",
    "- use Python 3.x\n",
    "***\n",
    "***"
   ]
  },
  {
   "cell_type": "markdown",
   "id": "9c258a45-da6e-43e6-a80a-d124ef4d59e1",
   "metadata": {
    "tags": []
   },
   "source": [
    "### A.&emsp; Introduction"
   ]
  },
  {
   "cell_type": "markdown",
   "id": "210d8956-b692-4655-92cf-5c8cdc2e2514",
   "metadata": {},
   "source": [
    "MC is about the estimation of integrals and sums. An example would be the partition function:\n",
    "\n",
    "$$Z = \\sum_{\\sigma_i}\\exp{\\left(-\\beta\\varepsilon\\sigma_i\\right)}$$\n",
    "\n",
    "- Sum can be messy. An N-spin Ising chain, $\\sigma_i = \\pm 1$, has $2^N$ configurations.\n",
    "\n",
    "- Error estimation is needed for direct summations.\n",
    "\n",
    "- When talking about MC, __errors__ are more important than expectation values. We see how errors are calculated using the Hit-or-Miss method.\n",
    "***"
   ]
  },
  {
   "cell_type": "markdown",
   "id": "b197d2a5-0639-4e0b-aeae-a88cb92cd87b",
   "metadata": {
    "tags": []
   },
   "source": [
    "### B.&emsp;Hit or Miss method"
   ]
  },
  {
   "cell_type": "markdown",
   "id": "55663393-155c-4c60-aaa1-ea0b368dd728",
   "metadata": {},
   "source": [
    "Goal: use the hit or miss method to calculate the area of a 2D circle.\n",
    "\n",
    "Given $N$ sample points, the area of the circle is given by\n",
    "$$A_{\\text{circ}} = 4\\frac{\\text{N}_{in}}{\\text{N}}$$\n",
    "\n",
    "Expectation value is a normalized, weighted sum, and the error scales as $\\frac{1}{\\sqrt{N}}$.\n",
    "***"
   ]
  },
  {
   "cell_type": "code",
   "execution_count": 2,
   "id": "985f3da5-1cb5-417b-abdb-0e45aef899f0",
   "metadata": {},
   "outputs": [],
   "source": [
    "#for hitormiss_numpy.py\n",
    "import numpy as np\n",
    "import math as mt\n",
    "\n",
    "#hit_or_miss_convergence.py\n",
    "import matplotlib.pyplot as plt\n",
    "\n",
    "import timeit"
   ]
  },
  {
   "cell_type": "markdown",
   "id": "618203d8-1708-48b0-85ff-b4bb39aa193f",
   "metadata": {
    "tags": []
   },
   "source": [
    "#### 1.&emsp;[`hitormiss_numpy.py`](source_codes/hitormiss_numpy.py)"
   ]
  },
  {
   "cell_type": "code",
   "execution_count": 3,
   "id": "424b2366-979c-4995-9401-d335b7ec9531",
   "metadata": {},
   "outputs": [],
   "source": [
    "'''\n",
    "Evaluate the Area of a circle of radius 1, pi * r**2.\n",
    "Using numpy arrays in parallel\n",
    "'''\n",
    "# number of points we will draw\n",
    "NN = 1000000\n",
    "# NN rows of data, with two values each, x and y\n",
    "data = np.random.rand(NN,2)\n",
    "# remember: rand has support [0, 1[\n",
    "# helpful slices\n",
    "xs = data[:,0]\n",
    "ys = data[:,1]"
   ]
  },
  {
   "cell_type": "code",
   "execution_count": 4,
   "id": "105de1b4-226a-437c-a2c8-ca82980a3b12",
   "metadata": {},
   "outputs": [],
   "source": [
    "# A boolean array where x^2 + y^2 < 1:\n",
    "# condition: is our point inside the circle or outside?\n",
    "hits = xs**2 + ys**2 < 1.0 #mask used"
   ]
  },
  {
   "cell_type": "code",
   "execution_count": 5,
   "id": "5adc316e-a57a-4a09-b995-e858345e4476",
   "metadata": {},
   "outputs": [],
   "source": [
    "# area in one quarter\n",
    "# ration between pinballs that ended up inside the circle\n",
    "# versus total number of pinballs\n",
    "A = float(4 * np.count_nonzero(hits)) / NN"
   ]
  },
  {
   "cell_type": "code",
   "execution_count": 6,
   "id": "86ef044c-7e22-4b5c-9aef-7651509fa7c5",
   "metadata": {
    "tags": []
   },
   "outputs": [],
   "source": [
    "# this is just a check, since we know that the \n",
    "# final result is pi.\n",
    "Exp = abs(A - mt.pi)"
   ]
  },
  {
   "cell_type": "code",
   "execution_count": 7,
   "id": "dc784c5c-c683-4336-b04f-65418480bd60",
   "metadata": {
    "tags": []
   },
   "outputs": [
    {
     "name": "stdout",
     "output_type": "stream",
     "text": [
      "Number of points used (total pinballs): 1000000\n",
      "Value obtained: 3.140424\n",
      "Error versus expected value: 0.0011686535897932337\n"
     ]
    }
   ],
   "source": [
    "# print(\"Number of points used (total pinballs): %s\" % NN)\n",
    "print(f\"Number of points used (total pinballs): {NN}\")\n",
    "print(\"Value obtained: %s\" % A)\n",
    "print(\"Error versus expected value: %s\" % Exp)\n",
    "\n"
   ]
  },
  {
   "cell_type": "markdown",
   "id": "43a99fb8-ffe5-46d3-8c47-c7d55d00bdb4",
   "metadata": {
    "tags": []
   },
   "source": [
    "#### 2.&emsp;[`Hit_or_miss_convergence.py`](source_codes/Hit_or_miss_convergence.py)\n",
    "Bonus tasks: \n",
    "- <font color = orange> Make this more efficient. </font>\n",
    "- <font color = orange> Enforce that the seed should be the same </font>"
   ]
  },
  {
   "cell_type": "code",
   "execution_count": 8,
   "id": "54ee9dfb-c01d-4397-94bb-beca51ca9d2e",
   "metadata": {},
   "outputs": [],
   "source": [
    "NN = 100000\n",
    "# minimal number of points to start our plot\n",
    "N_Start = int(NN*0.1)\n",
    "\n",
    "# NN rows of data, with two values each, x and y\n",
    "# data = np.random.rand(NN,2) #uncomment to not lock seed \n",
    "\n",
    "#alternate construction of data. fixes the seed\n",
    "ss_seed = np.random.default_rng(2022) #uncomment next two lines to fix seed\n",
    "data = ss_seed.random((NN,2))\n",
    "\n",
    "# remember: rand has support [0, 1]\n",
    "# helpful slices\n",
    "xs = data[:,0]\n",
    "ys = data[:,1]"
   ]
  },
  {
   "cell_type": "code",
   "execution_count": 9,
   "id": "3db50951-fdd0-4a33-b27d-0035627fcab4",
   "metadata": {},
   "outputs": [],
   "source": [
    "# Array of data\n",
    "Area = []\n",
    "\n",
    "# A boolean array where x^2 + y^2 < 1:\n",
    "# condition: is our point inside the circle or outside? \n",
    "hits = xs**2 + ys**2 < 1.0"
   ]
  },
  {
   "cell_type": "markdown",
   "id": "771c960b-27c3-4f4d-8bec-6cd845307ca2",
   "metadata": {},
   "source": [
    "Looped code. Slower since a for loop is used."
   ]
  },
  {
   "cell_type": "code",
   "execution_count": 10,
   "id": "ecaeba91-cf8a-4653-b919-d6ef72106376",
   "metadata": {},
   "outputs": [
    {
     "name": "stdout",
     "output_type": "stream",
     "text": [
      "130 ms ± 2.53 ms per loop (mean ± std. dev. of 7 runs, 10 loops each)\n"
     ]
    }
   ],
   "source": [
    "%%timeit\n",
    "# Counter\n",
    "CC = 0\n",
    "\n",
    "# computing running average because Area vs. plot is needed for the calculation\n",
    "\n",
    "for j in range(NN):\n",
    "    CC += float(4 * np.count_nonzero(hits[j])) #do not place numpy operations in a loop\n",
    "    Area.append(CC / (j+1))"
   ]
  },
  {
   "cell_type": "markdown",
   "id": "89e91239-aeab-4919-a030-4cad0695f4f7",
   "metadata": {},
   "source": [
    "Modified code. 2-3 orders of magnitude faster."
   ]
  },
  {
   "cell_type": "code",
   "execution_count": 11,
   "id": "6a9a4116-96ac-4bd3-a58b-b2c3ccf1e9a9",
   "metadata": {
    "tags": []
   },
   "outputs": [
    {
     "name": "stdout",
     "output_type": "stream",
     "text": [
      "513 µs ± 18.6 µs per loop (mean ± std. dev. of 7 runs, 1,000 loops each)\n"
     ]
    }
   ],
   "source": [
    "%%timeit\n",
    "\n",
    "CC_arr = hits*4. #simpler to just multiply hits by 4. instead of vectorizing\n",
    "Area_arr = np.cumsum(CC_arr)/(np.arange(NN)+1) #running average"
   ]
  },
  {
   "cell_type": "code",
   "execution_count": 30,
   "id": "19b6417e-6d02-4839-9980-90bac4120ce3",
   "metadata": {},
   "outputs": [],
   "source": [
    "# this is just a check, since we know that the \n",
    "# final result is pi.\n",
    "CC_arr = hits*4. #simpler to just multiply hits by 4. instead of vectorizing\n",
    "Area_arr = np.cumsum(CC_arr)/(np.arange(NN)+1) #running average\n",
    "\n",
    "Exp = (Area_arr[-1] - mt.pi)"
   ]
  },
  {
   "cell_type": "code",
   "execution_count": 31,
   "id": "b8e89413-119b-432f-be99-613ef38cc50f",
   "metadata": {
    "tags": []
   },
   "outputs": [
    {
     "name": "stdout",
     "output_type": "stream",
     "text": [
      "Number of points used (total pinballs): 100000\n",
      "Value obtained: 3.1412\n",
      "Error versus expected value: -0.0003926535897931238\n"
     ]
    },
    {
     "data": {
      "text/plain": [
       "[<matplotlib.lines.Line2D at 0x21d42d9c340>]"
      ]
     },
     "execution_count": 31,
     "metadata": {},
     "output_type": "execute_result"
    },
    {
     "data": {
      "image/png": "[encoded data removed]",
      "text/plain": [
       "<Figure size 640x480 with 1 Axes>"
      ]
     },
     "metadata": {},
     "output_type": "display_data"
    }
   ],
   "source": [
    "print(\"Number of points used (total pinballs): %s\" % NN)\n",
    "print(\"Value obtained: %s\" % Area_arr[-1])\n",
    "print(\"Error versus expected value: %s\" % Exp)\n",
    "\n",
    "# print(Area[:10]) #first few elements have wildly differing area values\n",
    "plt.plot(Area[N_Start:NN]) #starting at the first 10% of the guesses ensures 'smoother' plots"
   ]
  }
 ],
 "metadata": {
  "kernelspec": {
   "display_name": "Python 3 (ipykernel)",
   "language": "python",
   "name": "python3"
  },
  "language_info": {
   "codemirror_mode": {
    "name": "ipython",
    "version": 3
   },
   "file_extension": ".py",
   "mimetype": "text/x-python",
   "name": "python",
   "nbconvert_exporter": "python",
   "pygments_lexer": "ipython3",
   "version": "3.9.16"
  }
 },
 "nbformat": 4,
 "nbformat_minor": 5
}
